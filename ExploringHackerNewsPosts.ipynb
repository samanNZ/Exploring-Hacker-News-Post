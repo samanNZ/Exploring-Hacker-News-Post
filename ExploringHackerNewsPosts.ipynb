{
 "cells": [
  {
   "cell_type": "markdown",
   "metadata": {},
   "source": [
    "# Exploring Hacker News Post\n",
    "\n",
    "In this study we will explore (a sample of) posts that were posted on [Hacker News](https://news.ycombinator.com/). Hacker News is a site started by the startup incubator Y Combinator, where user-submitted stories (known as \"posts\") are voted and commented upon, similar to reddit. Hacker News is extremely popular in technology and startup circles, and posts that make it to the top of Hacker News' listings can get hundreds of thousands of visitors as a result.\n",
    "\n",
    "Some posts can easily attract a lot of views, and comments. In this study we will explore aspects that impact the amount of comments for a post.\n",
    "\n",
    "*Post title*: when creating posts, users can - optionally - add `Ask HN` or `Show HN` to the title of the post. They do so to explicitly 'ask' or 'show' something to the Hacker News community. We'll analyze whether posts with these tags receive more comments on average.\n",
    "\n",
    "*Post timing*: also, we will explore whether posts published at certain times receive more comments on average."
   ]
  },
  {
   "cell_type": "markdown",
   "metadata": {},
   "source": [
    "**Data** \n",
    "\n",
    "The source data for this study can be found [here](https://www.kaggle.com/hacker-news/hacker-news-posts). It contains  almost 300,000 rows, each row representing a post. The data is of 2016. However, for this project we make use of a version that been reduced to approximately 20,000 rows by removing all submissions that did not receive any comments, and then randomly sampling from the remaining submissions. This file was prepared by Dataquest and can be downloaded from [here](https://app.dataquest.io/m/356/guided-project%3A-exploring-hacker-news-posts/1/introduction).\n",
    "\n",
    "Let us start with reading in the data, and displaying the header row and a small sample."
   ]
  },
  {
   "cell_type": "code",
   "execution_count": 52,
   "metadata": {},
   "outputs": [
    {
     "name": "stdout",
     "output_type": "stream",
     "text": [
      "['id', 'title', 'url', 'num_points', 'num_comments', 'author', 'created_at'] \n",
      "\n",
      "['12224879', 'Interactive Dynamic Video', 'http://www.interactivedynamicvideo.com/', '386', '52', 'ne0phyte', '8/4/2016 11:52'] \n",
      "\n",
      "['10975351', 'How to Use Open Source and Shut the Fuck Up at the Same Time', 'http://hueniverse.com/2016/01/26/how-to-use-open-source-and-shut-the-fuck-up-at-the-same-time/', '39', '10', 'josep2', '1/26/2016 19:30'] \n",
      "\n",
      "['11964716', \"Florida DJs May Face Felony for April Fools' Water Joke\", 'http://www.thewire.com/entertainment/2013/04/florida-djs-april-fools-water-joke/63798/', '2', '1', 'vezycash', '6/23/2016 22:20'] \n",
      "\n"
     ]
    }
   ],
   "source": [
    "from csv import reader\n",
    "opened_file = open('inputdata/hacker_news.csv')\n",
    "read_file = reader(opened_file)\n",
    "hn = list(read_file)\n",
    "\n",
    "for row in hn[:4]:\n",
    "    print (row, '\\n')"
   ]
  },
  {
   "cell_type": "markdown",
   "metadata": {},
   "source": [
    "Let's split of the headers in in `headers`, and keep the data itself in `hn`. (And print to check the results)"
   ]
  },
  {
   "cell_type": "code",
   "execution_count": 53,
   "metadata": {},
   "outputs": [
    {
     "name": "stdout",
     "output_type": "stream",
     "text": [
      "Number of records before removing the header:  20101\n",
      "Number of records after removing the header:  20100\n",
      "\n",
      " The first three rows of the data: \n",
      "\n",
      "['12224879', 'Interactive Dynamic Video', 'http://www.interactivedynamicvideo.com/', '386', '52', 'ne0phyte', '8/4/2016 11:52'] \n",
      "\n",
      "['10975351', 'How to Use Open Source and Shut the Fuck Up at the Same Time', 'http://hueniverse.com/2016/01/26/how-to-use-open-source-and-shut-the-fuck-up-at-the-same-time/', '39', '10', 'josep2', '1/26/2016 19:30'] \n",
      "\n",
      "['11964716', \"Florida DJs May Face Felony for April Fools' Water Joke\", 'http://www.thewire.com/entertainment/2013/04/florida-djs-april-fools-water-joke/63798/', '2', '1', 'vezycash', '6/23/2016 22:20'] \n",
      "\n"
     ]
    }
   ],
   "source": [
    "headers = hn[0]\n",
    "print ('Number of records before removing the header: ', len(hn))\n",
    "hn = hn[1:]\n",
    "print ('Number of records after removing the header: ', len(hn))\n",
    "print ('\\n','The first three rows of the data:', '\\n')\n",
    "for row in hn[:3]:\n",
    "    print (row, '\\n')"
   ]
  },
  {
   "cell_type": "markdown",
   "metadata": {},
   "source": [
    "Next, let us split the data into three new lists:\n",
    "* `ask_posts` (the one who posted added 'ask hn' or similar)\n",
    "* `show_posts` (the one who posted added 'show hn' or similar)\n",
    "* `other_posts` (the remainder)\n"
   ]
  },
  {
   "cell_type": "code",
   "execution_count": 54,
   "metadata": {},
   "outputs": [
    {
     "name": "stdout",
     "output_type": "stream",
     "text": [
      "Sample posts for \"ask\": \n",
      "\n",
      "['12296411', 'Ask HN: How to improve my personal website?', '', '2', '6', 'ahmedbaracat', '8/16/2016 9:55']\n",
      "['10610020', 'Ask HN: Am I the only one outraged by Twitter shutting down share counts?', '', '28', '29', 'tkfx', '11/22/2015 13:43']\n",
      "\n",
      " Sample posts for \"show\": \n",
      "\n",
      "['10627194', 'Show HN: Wio Link  ESP8266 Based Web of Things Hardware Development Platform', 'https://iot.seeed.cc', '26', '22', 'kfihihc', '11/25/2015 14:03']\n",
      "['10646440', 'Show HN: Something pointless I made', 'http://dn.ht/picklecat/', '747', '102', 'dhotson', '11/29/2015 22:46']\n",
      "\n",
      " Sample posts for other: \n",
      "\n",
      "['12224879', 'Interactive Dynamic Video', 'http://www.interactivedynamicvideo.com/', '386', '52', 'ne0phyte', '8/4/2016 11:52']\n",
      "['10975351', 'How to Use Open Source and Shut the Fuck Up at the Same Time', 'http://hueniverse.com/2016/01/26/how-to-use-open-source-and-shut-the-fuck-up-at-the-same-time/', '39', '10', 'josep2', '1/26/2016 19:30']\n",
      "\n",
      "\n",
      "Number of posts in the original list is 20100\n",
      "Number of posts in \"ask\" is 1744\n",
      "Number of posts in \"show\" is 1162\n",
      "Number of posts in \"other\" is 17194\n",
      "Sum of the three new lists is 20100\n"
     ]
    }
   ],
   "source": [
    "# Create empty lists\n",
    "\n",
    "ask_posts = []\n",
    "show_posts = []\n",
    "other_posts = []\n",
    "\n",
    "# Fill the lists\n",
    "\n",
    "for post in hn:\n",
    "    title = post[1]\n",
    "    if title.lower().startswith('ask hn'):\n",
    "        ask_posts.append(post)\n",
    "    elif title.lower().startswith('show hn'):\n",
    "        show_posts.append(post)\n",
    "    else:\n",
    "        other_posts.append(post)\n",
    "\n",
    "# Print some samples\n",
    "\n",
    "print('Sample posts for \"ask\":', '\\n')\n",
    "for post in ask_posts[:2]:\n",
    "    print (post)\n",
    "\n",
    "print('\\n', 'Sample posts for \"show\":', '\\n')\n",
    "for post in show_posts[:2]:\n",
    "    print (post)\n",
    "    \n",
    "print('\\n', 'Sample posts for other:', '\\n')\n",
    "for post in other_posts[:2]:\n",
    "    print (post)\n",
    "\n",
    "# Check the totals\n",
    "print ('\\n')\n",
    "print ('Number of posts in the original list is', len(hn))\n",
    "print ('Number of posts in \"ask\" is', len(ask_posts))\n",
    "print ('Number of posts in \"show\" is', len(show_posts))\n",
    "print ('Number of posts in \"other\" is', len(other_posts))\n",
    "print ('Sum of the three new lists is', len(ask_posts)+len(show_posts)+len(other_posts))"
   ]
  },
  {
   "cell_type": "markdown",
   "metadata": {},
   "source": [
    "Next, let's determine if \"ask posts\" or \"show posts\" receive more comments on average."
   ]
  },
  {
   "cell_type": "code",
   "execution_count": 55,
   "metadata": {
    "scrolled": true
   },
   "outputs": [
    {
     "name": "stdout",
     "output_type": "stream",
     "text": [
      "Average number of comments for \"ask\" posts is 14.04\n",
      "Average number of comments for \"show\" posts is 10.32\n"
     ]
    }
   ],
   "source": [
    "total_ask_comments = 0\n",
    "for post in ask_posts:\n",
    "    total_ask_comments += int(post[4])\n",
    "avg_ask_comments = total_ask_comments/len(ask_posts)\n",
    "print ('Average number of comments for \"ask\" posts is {:.2f}'.format(avg_ask_comments))\n",
    "\n",
    "total_show_comments = 0\n",
    "for post in show_posts:\n",
    "    total_show_comments += int(post[4])\n",
    "avg_show_comments = total_show_comments/len(show_posts)\n",
    "print ('Average number of comments for \"show\" posts is {:.2f}'.format(avg_show_comments))"
   ]
  },
  {
   "cell_type": "markdown",
   "metadata": {},
   "source": [
    "It appears that 'ask' posts receive more comments on average than 'show' posts.\n",
    "\n",
    "To analyze whether particular times of the day attact more comments, we will continue with these \"ask\" posts."
   ]
  },
  {
   "cell_type": "code",
   "execution_count": 56,
   "metadata": {},
   "outputs": [
    {
     "name": "stdout",
     "output_type": "stream",
     "text": [
      "For hour 00 the average number of comments per post is 8.13\n",
      "For hour 01 the average number of comments per post is 11.38\n",
      "For hour 02 the average number of comments per post is 23.81\n",
      "For hour 03 the average number of comments per post is 7.80\n",
      "For hour 04 the average number of comments per post is 7.17\n",
      "For hour 05 the average number of comments per post is 10.09\n",
      "For hour 06 the average number of comments per post is 9.02\n",
      "For hour 07 the average number of comments per post is 7.85\n",
      "For hour 08 the average number of comments per post is 10.25\n",
      "For hour 09 the average number of comments per post is 5.58\n",
      "For hour 10 the average number of comments per post is 13.44\n",
      "For hour 11 the average number of comments per post is 11.05\n",
      "For hour 12 the average number of comments per post is 9.41\n",
      "For hour 13 the average number of comments per post is 14.74\n",
      "For hour 14 the average number of comments per post is 13.23\n",
      "For hour 15 the average number of comments per post is 38.59\n",
      "For hour 16 the average number of comments per post is 16.80\n",
      "For hour 17 the average number of comments per post is 11.46\n",
      "For hour 18 the average number of comments per post is 13.20\n",
      "For hour 19 the average number of comments per post is 10.80\n",
      "For hour 20 the average number of comments per post is 21.52\n",
      "For hour 21 the average number of comments per post is 16.01\n",
      "For hour 22 the average number of comments per post is 6.75\n",
      "For hour 23 the average number of comments per post is 7.99\n"
     ]
    }
   ],
   "source": [
    "import datetime as dt\n",
    "\n",
    "# Create a list that contains the creation times and number of comments (ask-posts only)\n",
    "\n",
    "result_list = []\n",
    "for post in ask_posts:\n",
    "    created_at = post[6]\n",
    "    num_comments = int(post[4])\n",
    "    result_list.append([created_at, num_comments])\n",
    "#print (result_list[:3])\n",
    "\n",
    "# Build frequency tables for the number of posts and for the number of comments, per hour of the day\n",
    "counts_by_hour = {}\n",
    "comments_by_hour = {}\n",
    "\n",
    "for row in result_list:\n",
    "    created_at = dt.datetime.strptime(row[0], '%m/%d/%Y %H:%M')\n",
    "    hour = created_at.hour\n",
    "    if hour not in counts_by_hour:\n",
    "        counts_by_hour[hour] = 1\n",
    "        comments_by_hour[hour] = row[1]\n",
    "    else:\n",
    "        counts_by_hour[hour] += 1\n",
    "        comments_by_hour[hour] += row[1]\n",
    "\n",
    "# Create a table that contains the hours of day and the average number of comments per posts\n",
    "avg_by_hour = []\n",
    "for hour in counts_by_hour:\n",
    "    num_posts = counts_by_hour[hour]\n",
    "    num_comments = comments_by_hour[hour]\n",
    "    average = num_comments / num_posts\n",
    "    avg_by_hour.append([hour, average])\n",
    "\n",
    "# Sort the list (on its first element, being the hour of day)\n",
    "avg_by_hour.sort()    \n",
    "    \n",
    "# Print the result\n",
    "output = \"For hour {:02d} the average number of comments per post is {:.2f}\"\n",
    "for row in avg_by_hour:\n",
    "    print (output.format(row[0], row[1]))  "
   ]
  },
  {
   "cell_type": "markdown",
   "metadata": {},
   "source": [
    "It appears there are significant differences indeed. Let's visualize this a bit clearer, and show  which are the hours of day where posts (on average) attract most comments."
   ]
  },
  {
   "cell_type": "code",
   "execution_count": 57,
   "metadata": {
    "scrolled": true
   },
   "outputs": [
    {
     "name": "stdout",
     "output_type": "stream",
     "text": [
      "Top 5 Hours for Ask Posts Comments \n",
      "\n",
      "15:00: 38.59 average comments per post\n",
      "02:00: 23.81 average comments per post\n",
      "20:00: 21.52 average comments per post\n",
      "16:00: 16.80 average comments per post\n",
      "21:00: 16.01 average comments per post\n"
     ]
    }
   ],
   "source": [
    "# Create a list that is sorted on the average number of comments instead\n",
    "swap_avg_by_hour = []\n",
    "for row in avg_by_hour:\n",
    "    swap_avg_by_hour.append([row[1], row[0]])\n",
    "\n",
    "# Created a sorted version of this list\n",
    "sorted_swap = sorted (swap_avg_by_hour, reverse = True)\n",
    "\n",
    "# Display the results\n",
    "print ('Top 5 Hours for Ask Posts Comments', '\\n')\n",
    "output = \"{}: {:.2f} average comments per post\"\n",
    "for row in sorted_swap[:5]:\n",
    "    thetime = dt.datetime.strptime(str(row[1]), '%H')\n",
    "    thetime = thetime.strftime('%H:%M')\n",
    "    print ( output.format(thetime,row[0] ))"
   ]
  },
  {
   "cell_type": "markdown",
   "metadata": {},
   "source": [
    "So those are the best times of days to post if you want to attract comments. What is interesting to see is that the top 5 hours are on very different hours during the day. One possible explanation could be that commenters are located across the globe, and that these different hours represent peak times for different time zones. (That would require further study though.)\n",
    "\n",
    "Note that the times above are for the US Eastern Time. (As per the [dataset documentation](https://www.kaggle.com/hacker-news/hacker-news-posts).)\n",
    "\n",
    "For our time zone (Central European Time), you'll need to add six hours to that."
   ]
  },
  {
   "cell_type": "markdown",
   "metadata": {},
   "source": [
    "## Conclusions\n",
    "\n",
    "Refering back to the goal of this study, let's summarize the conclusions. \n",
    "\n",
    "*Post title*: when creating posts, adding `Ask HN` to your post title will do better for attracting comments than adding `Show HN`:\n",
    "- Ask HN: 14.04 average comments per post\n",
    "- Show HN: 10.32 average comments per post\n",
    "\n",
    "(It has not been compared with posts for not adding a tag at all.)\n",
    "\n",
    "*Post timing*: the time of day of posting appears to have significant impact on the number of comments that you will attract. Based on an analysis of the `Ask HN` posts, the top hours (in Central European Time) are:\n",
    "- 21:00 - 22:00: 38.59 average comments per post\n",
    "- 08:00 - 09:00: 23.81 average comments per post\n",
    "- 02:00 - 03:00: 21.52 average comments per post"
   ]
  }
 ],
 "metadata": {
  "kernelspec": {
   "display_name": "Python 3",
   "language": "python",
   "name": "python3"
  },
  "language_info": {
   "codemirror_mode": {
    "name": "ipython",
    "version": 3
   },
   "file_extension": ".py",
   "mimetype": "text/x-python",
   "name": "python",
   "nbconvert_exporter": "python",
   "pygments_lexer": "ipython3",
   "version": "3.7.3"
  }
 },
 "nbformat": 4,
 "nbformat_minor": 2
}
